{
 "cells": [
  {
   "cell_type": "code",
   "execution_count": 54,
   "metadata": {},
   "outputs": [
    {
     "name": "stderr",
     "output_type": "stream",
     "text": [
      "/Users/liwenwong/anaconda3/lib/python3.7/site-packages/ipykernel_launcher.py:77: DeprecationWarning: 'U' mode is deprecated\n",
      "/Users/liwenwong/anaconda3/lib/python3.7/site-packages/ipykernel_launcher.py:82: DeprecationWarning: 'U' mode is deprecated\n"
     ]
    },
    {
     "name": "stdout",
     "output_type": "stream",
     "text": [
      "The total length of tweets is 64786\n",
      "The number of tweets is 2362\n",
      "The average is 27.428450465707026\n"
     ]
    }
   ],
   "source": [
    "import csv\n",
    "import re\n",
    "import gensim \n",
    "from random import random\n",
    "import matplotlib.pyplot as plt\n",
    "from sklearn.decomposition import PCA\n",
    "import nltk\n",
    "import html\n",
    "import numpy as np\n",
    "import scipy as sp\n",
    "from sklearn.cluster import KMeans\n",
    "\n",
    "\n",
    "def writeFile(li, filename, dataindex):\n",
    "    p = open(filename, \"w\")\n",
    "    for i in li:\n",
    "        l = i[dataindex]\n",
    "        l = re.sub(r\"(^| )[0-9]+($| )\", r\" \", l)  # Remove digits\n",
    "        l = re.sub(\"(@[A-Za-z0-9]+)|([^0-9A-Za-z \\t])|(\\w+:\\/\\/\\S+)\",\" \",l)\n",
    "        l = re.sub(r\"\\bhttp\\S+\\b\", r\"\", l)\n",
    "        l = l.lower()\n",
    "        print(l.encode('utf8', 'ignore').decode('utf8'), file=p)\n",
    "        #.encode(\"utf8\",\"ignore\")\n",
    "   \n",
    "    p.close()\n",
    "    \n",
    "def write_allFile(li, filename):\n",
    "    p = open(filename, \"w\")\n",
    "    for i in li:\n",
    "        l =(str(i[1])+\" \"+str(i[2]))\n",
    "        l = re.sub(r\"(^| )[0-9]+($| )\", r\" \", l)  # remove digits\n",
    "        l = re.sub(\"(@[A-Za-z0-9]+)|([^0-9A-Za-z \\t])|(\\w+:\\/\\/\\S+)\",\" \",l)\n",
    "        l = re.sub(r\"\\bhttp\\S+\\b\", r\"\", l)\n",
    "        l = l.lower()\n",
    "        #line = re.sub(r\"(^| )[0-9]+($| )\", r\" \", line)\n",
    "        print(l.encode('utf8', 'ignore').decode('utf8'), file=p)\n",
    "        #.encode(\"utf8\",\"ignore\")\n",
    "   \n",
    "    p.close()\n",
    "    \n",
    "def write_simple(li,filename):\n",
    "    p = open(filename, \"w\")\n",
    "    for alltext in li:\n",
    "        alltext = html.unescape(alltext)\n",
    "        alltext = alltext.rstrip()\n",
    "        alltext = re.sub(\"\\n\", \" \", alltext)\n",
    "        alltext = re.sub(r\"(^| )[0-9]+($| )\", r\" \", alltext)  # remove digits\n",
    "        alltext = re.sub(\"(@[A-Za-z0-9]+)|([^0-9A-Za-z \\t])|(\\w+:\\/\\/\\S+)\",\" \",alltext)\n",
    "        alltext = re.sub(r\"\\bhttp\\S+\\b\", r\"\", alltext)\n",
    "        alltext = re.sub(r\"RT\\s*@[^:]*:\\s*.*\",r\" \",alltext)\n",
    "        alltext = re.sub('#\\S+', '', alltext)\n",
    "        alltext = re.sub('RT|cc', '', alltext)\n",
    "        alltext = re.sub(\"&amp; *\", \"\", alltext)\n",
    "        alltext = re.sub(\"&gt; *\", \"\", alltext)\n",
    "        alltext = alltext.rstrip()\n",
    "\n",
    "        print(alltext.encode('utf8', 'ignore').decode('utf8'), file=p)\n",
    "    p.close()\n",
    "    \n",
    "    \n",
    "train_file = \"train.csv\"\n",
    "test_file = \"test.csv\"\n",
    "# Write output to seperate files\n",
    "positive_labels_training_texts = []\n",
    "negative_labels_training_texts = []\n",
    "zero_labels_training_texts = []\n",
    "all_training_text = []\n",
    "\n",
    "count = 0\n",
    "'''Set index of target. For example crude oil 5min =4 30min=5 12hour=6,\n",
    "Gold 5min=7 30min=8 12hour =9\n",
    "USD index 5min=10 30min=11 12hours=12'''\n",
    "\n",
    "indexNum = 8\n",
    "\n",
    "all_train_data = []\n",
    "with open(train_file, \"U\") as in_file1:\n",
    "    reader1 = csv.reader(in_file1)\n",
    "    for row1 in reader1:\n",
    "        all_train_data.append(row1)\n",
    "all_test_data = []\n",
    "with open(test_file, \"U\") as in_file1:\n",
    "    reader1 = csv.reader(in_file1)\n",
    "    for row1 in reader1:\n",
    "        all_test_data.append(row1)\n",
    "\n",
    "        \n",
    "#print(all_test_data[2])\n",
    "#print(all_train_data[5:])\n",
    "totalCount = 0\n",
    "totallen = 0\n",
    "\n",
    "for l in all_train_data:\n",
    "    if count >= 1:\n",
    "        #print(l[1])\n",
    "        ind = int(l[indexNum])\n",
    "        curtext = l[0]\n",
    "        curlen = len(curtext.split())\n",
    "        all_training_text.append(curtext)\n",
    "        \n",
    "        totallen += curlen\n",
    "        totalCount += 1\n",
    "        if ind > 0:\n",
    "            positive_labels_training_texts.append(curtext)\n",
    "        elif ind < 0:\n",
    "            negative_labels_training_texts.append(curtext)\n",
    "        else:\n",
    "            zero_labels_training_texts.append(curtext)\n",
    "    count += 1\n",
    "       \n",
    "        \n",
    "print(\"The total length of tweets is \" + str(totallen))\n",
    "print(\"The number of tweets is \" + str(totalCount))\n",
    "print(\"The average is \" + str(totallen/totalCount))\n",
    "\n",
    "#writeFile(positive_labels_training,\"postrain.txt\",2)\n",
    "#writeFile(negative_labels_training,\"negtrain.txt\",2)\n",
    "write_simple(positive_labels_training_texts,\"postrain.txt\")\n",
    "write_simple(negative_labels_training_texts,\"negtrain.txt\")\n",
    "write_simple(zero_labels_training_texts,\"zerotrain.txt\")\n",
    "write_simple(all_training_text,\"alltrain.txt\")\n",
    "\n",
    "#print(\"done\")\n",
    "\n"
   ]
  },
  {
   "cell_type": "code",
   "execution_count": 55,
   "metadata": {},
   "outputs": [],
   "source": [
    "'''\n",
    "Gensim model\n",
    "'''\n",
    "import html\n",
    "alltext = \"\"   \n",
    "toksents = [] \n",
    "\n",
    "\n",
    "f = open(\"allTrump.txt\", encoding=\"utf-8\")\n",
    "\n",
    "# Read in the whole file into a string called alltext\n",
    "alltext = f.read().rstrip()\n",
    "f.close()\n",
    "alltext = html.unescape(alltext)\n",
    "alltext = re.sub(\"\\n\", \" \", alltext)\n",
    "alltext = re.sub(r\"(^| )[0-9]+($| )\", r\" \", alltext)  # remove digits\n",
    "alltext = re.sub(\"(@[A-Za-z0-9]+)|([^0-9A-Za-z \\t])|(\\w+:\\/\\/\\S+)\",\" \",alltext)\n",
    "alltext = re.sub(r\"\\bhttp\\S+\\b\", r\"\", alltext)\n",
    "alltext = re.sub(r\"RT\\s*@[^:]*:\\s*.*\",r\" \",alltext)\n",
    "alltext = re.sub('#\\S+', '', alltext)\n",
    "#alltext = re.sub('@\\S+', '', alltext)\n",
    "#alltext = re.sub('[%s]' % re.escape(\"\"\"!\"#$%&'()*+,-./:;<=>?@[\\]^_`{|}~\"\"\"), '', alltext)# remove punctuations\n",
    "alltext = re.sub('RT|cc', '', alltext)\n",
    "alltext = re.sub(\"&amp; *\", \"\", alltext)\n",
    "alltext = re.sub(\"&gt; *\", \"\", alltext)\n",
    "alltext = alltext.rstrip()\n",
    "\n",
    "\n",
    "alltext = alltext.lower()\n",
    "\n",
    "tok = nltk.sent_tokenize(alltext)\n",
    "toksents=[]\n",
    "for l in tok:\n",
    "    w = nltk.word_tokenize(l)\n",
    "    toksents.append(w)\n"
   ]
  },
  {
   "cell_type": "code",
   "execution_count": 56,
   "metadata": {},
   "outputs": [
    {
     "name": "stdout",
     "output_type": "stream",
     "text": [
      "['great', 'president', 'people', 'trump', 'democrats', 'country', 'news', 'thank', 'big', 'fake']\n"
     ]
    },
    {
     "data": {
      "image/png": "[encoded data removed]",
      "text/plain": [
       "<Figure size 432x288 with 1 Axes>"
      ]
     },
     "metadata": {
      "needs_background": "light"
     },
     "output_type": "display_data"
    },
    {
     "data": {
      "text/plain": [
       "<matplotlib.axes._subplots.AxesSubplot at 0x1a285999b0>"
      ]
     },
     "execution_count": 56,
     "metadata": {},
     "output_type": "execute_result"
    }
   ],
   "source": [
    "alltokens = nltk.word_tokenize(alltext)\n",
    "fdist = nltk.FreqDist(alltokens)\n",
    "\n",
    "# Remove some stop words to create distribution graph\n",
    "from nltk.corpus import stopwords\n",
    "stoplist = stopwords.words('english')\n",
    "\n",
    "newAllTokens = []\n",
    "for i in alltokens:\n",
    "    if i not in stoplist:\n",
    "        newAllTokens.append(i)\n",
    "fdist = nltk.FreqDist(newAllTokens)\n",
    "#print(fdist.most_common(50))\n",
    "#print(type(fdist))\n",
    "most_freq_words = []\n",
    "for i in fdist.most_common(10):\n",
    "    most_freq_words.append(i[0])\n",
    "print(most_freq_words)\n",
    "fdist.plot(10, cumulative = False)"
   ]
  },
  {
   "cell_type": "code",
   "execution_count": 57,
   "metadata": {},
   "outputs": [
    {
     "name": "stdout",
     "output_type": "stream",
     "text": [
      "The model is loaded.\n"
     ]
    }
   ],
   "source": [
    "dimension = 100\n",
    "model = gensim.models.Word2Vec(toksents, size=dimension, window=5, min_count=5, workers=4)\n",
    "#bigmodel = gensim.models.KeyedVectors.load_word2vec_format(\"GoogleNews-vectors-negative300-SLIM.bin\", binary=True)\n",
    "print(\"The model is loaded.\")"
   ]
  },
  {
   "cell_type": "code",
   "execution_count": 58,
   "metadata": {},
   "outputs": [
    {
     "name": "stdout",
     "output_type": "stream",
     "text": [
      "Done\n"
     ]
    }
   ],
   "source": [
    "# Training the data and creating vectors with clean data\n",
    "def create_vectors(filename, lines, tokens):\n",
    "\n",
    "    f = open(filename)\n",
    "    for l in f:\n",
    "        l = l.rstrip()\n",
    "        lines.append(l)    \n",
    "        l = re.sub(r\"(^| )[0-9]+($| )\", r\" \", l)  # remove digits\n",
    "        l = re.sub(\"(@[A-Za-z0-9]+)|([^0-9A-Za-z \\t])|(\\w+:\\/\\/\\S+)\",\" \",l)\n",
    "        l = re.sub(r\"\\bhttp\\S+\\b\", r\"\", l)\n",
    "        l = html.unescape(l)\n",
    "        #alltext = alltext.rstrip()\n",
    "        l = re.sub(\"\\n\", \" \", l)\n",
    "        l = re.sub(r\"(^| )[0-9]+($| )\", r\" \", l)  # remove digits\n",
    "        l = re.sub(\"(@[A-Za-z0-9]+)|([^0-9A-Za-z \\t])|(\\w+:\\/\\/\\S+)\",\" \",l)\n",
    "        l = re.sub(r\"\\bhttp\\S+\\b\", r\"\", l)\n",
    "        l = re.sub(r\"RT\\s*@[^:]*:\\s*.*\",r\" \",l)\n",
    "        l = re.sub('#\\S+', '', l)\n",
    "        #alltext = re.sub('@\\S+', '', alltext)\n",
    "        #alltext = re.sub('[%s]' % re.escape(\"\"\"!\"#$%&'()*+,-./:;<=>?@[\\]^_`{|}~\"\"\"), '', alltext)# remove punctuations\n",
    "        l = re.sub('RT|cc', '', l)\n",
    "        l = re.sub(\"&amp; *\", \"\", l)\n",
    "        l = re.sub(\"&gt; *\", \"\", l)\n",
    "        l = l.rstrip()\n",
    "\n",
    "\n",
    "        addme = [t.lower() for t in l.split()]\n",
    "        tokens.append(addme)\n",
    "    f.close()\n",
    "    return tokens,lines\n",
    "\n",
    "\n",
    "train_pos_vecs = []\n",
    "train_pos_lines = []\n",
    "train_pos_vecs,train_pos_lines = create_vectors(\"postrain.txt\",train_pos_lines,train_pos_vecs)\n",
    "\n",
    "train_neg_vecs = []\n",
    "train_neg_lines = []\n",
    "train_neg_vecs,train_neg_lines = create_vectors(\"negtrain.txt\",train_neg_lines,train_neg_vecs)\n",
    "\n",
    "train_zero_vecs = []\n",
    "train_zero_lines = []\n",
    "train_zero_vecs,train_zero_lines = create_vectors(\"zerotrain.txt\",train_zero_lines,train_zero_vecs)\n",
    "\n",
    "print(\"Done\")"
   ]
  },
  {
   "cell_type": "code",
   "execution_count": 59,
   "metadata": {},
   "outputs": [],
   "source": [
    "#print(train_pos_vecs[10])\n",
    "#print(train_pos_lines[10])\n",
    "#print(train_neg_vecs[6])\n",
    "#print(train_neg_lines[6])\n",
    "#print(train_zero_vecs[6])\n",
    "#print(train_zero_lines[6])\n",
    "#print(len(train_zero_vecs))"
   ]
  },
  {
   "cell_type": "code",
   "execution_count": 60,
   "metadata": {},
   "outputs": [],
   "source": [
    "#print (len(output))\n",
    "#print(len(training_data_from_output))\n",
    "#print(len(testing_data_from_output))\n",
    "#print(len(positive_labels_training))\n",
    "#print(len(negative_labels_training))"
   ]
  },
  {
   "cell_type": "code",
   "execution_count": 61,
   "metadata": {},
   "outputs": [
    {
     "name": "stderr",
     "output_type": "stream",
     "text": [
      "/Users/liwenwong/anaconda3/lib/python3.7/site-packages/ipykernel_launcher.py:7: DeprecationWarning: Call to deprecated `__contains__` (Method will be removed in 4.0.0, use self.wv.__contains__() instead).\n",
      "  import sys\n",
      "/Users/liwenwong/anaconda3/lib/python3.7/site-packages/ipykernel_launcher.py:8: DeprecationWarning: Call to deprecated `__getitem__` (Method will be removed in 4.0.0, use self.wv.__getitem__() instead).\n",
      "  \n"
     ]
    }
   ],
   "source": [
    "# Creating own vectors\n",
    "\n",
    "posvectors = []       # This list will contain one 300-dimensional vector per clickbait headline\n",
    "for h in train_pos_vecs:\n",
    "    totvec = np.zeros(dimension)\n",
    "    for w in h:\n",
    "        if w.lower() in model:\n",
    "            totvec = totvec + model[w.lower()]\n",
    "    posvectors.append(totvec)\n",
    "\n",
    "#print(len(train_pos_vecs))\n",
    "#print(len(posvectors))\n",
    "#print(len(posvectors[10]))"
   ]
  },
  {
   "cell_type": "code",
   "execution_count": 62,
   "metadata": {},
   "outputs": [
    {
     "name": "stderr",
     "output_type": "stream",
     "text": [
      "/Users/liwenwong/anaconda3/lib/python3.7/site-packages/ipykernel_launcher.py:5: DeprecationWarning: Call to deprecated `__contains__` (Method will be removed in 4.0.0, use self.wv.__contains__() instead).\n",
      "  \"\"\"\n",
      "/Users/liwenwong/anaconda3/lib/python3.7/site-packages/ipykernel_launcher.py:6: DeprecationWarning: Call to deprecated `__getitem__` (Method will be removed in 4.0.0, use self.wv.__getitem__() instead).\n",
      "  \n"
     ]
    },
    {
     "name": "stdout",
     "output_type": "stream",
     "text": [
      "1102\n",
      "1102\n",
      "100\n"
     ]
    }
   ],
   "source": [
    "negvectors = []       # this list will contain one 300-dimensional vector per clickbait headline\n",
    "for h in train_neg_vecs:\n",
    "    totvec = np.zeros(dimension)\n",
    "    for w in h:\n",
    "        if w.lower() in model:\n",
    "            totvec = totvec + model[w.lower()]\n",
    "    negvectors.append(totvec)\n",
    "\n",
    "print(len(train_neg_vecs))\n",
    "print(len(negvectors))\n",
    "print(len(negvectors[10]))"
   ]
  },
  {
   "cell_type": "code",
   "execution_count": 65,
   "metadata": {},
   "outputs": [
    {
     "name": "stderr",
     "output_type": "stream",
     "text": [
      "/Users/liwenwong/anaconda3/lib/python3.7/site-packages/ipykernel_launcher.py:5: DeprecationWarning: Call to deprecated `__contains__` (Method will be removed in 4.0.0, use self.wv.__contains__() instead).\n",
      "  \"\"\"\n",
      "/Users/liwenwong/anaconda3/lib/python3.7/site-packages/ipykernel_launcher.py:6: DeprecationWarning: Call to deprecated `__getitem__` (Method will be removed in 4.0.0, use self.wv.__getitem__() instead).\n",
      "  \n"
     ]
    }
   ],
   "source": [
    "zerovectors = []       # this list will contain one 300-dimensional vector per clickbait headline\n",
    "for h in train_zero_vecs:\n",
    "    totvec = np.zeros(dimension)\n",
    "    for w in h:\n",
    "        if w.lower() in model:\n",
    "            totvec = totvec + model[w.lower()]\n",
    "    zerovectors.append(totvec)\n",
    "\n",
    "#print(len(train_zero_vecs))\n",
    "#print(len(zerovectors))\n",
    "#print(len(zerovectors[10]))"
   ]
  },
  {
   "cell_type": "code",
   "execution_count": 68,
   "metadata": {},
   "outputs": [
    {
     "name": "stderr",
     "output_type": "stream",
     "text": [
      "/Users/liwenwong/anaconda3/lib/python3.7/site-packages/ipykernel_launcher.py:8: DeprecationWarning: Call to deprecated `__getitem__` (Method will be removed in 4.0.0, use self.wv.__getitem__() instead).\n",
      "  \n"
     ]
    },
    {
     "data": {
      "image/png": "[encoded data removed]",
      "text/plain": [
       "<Figure size 432x288 with 1 Axes>"
      ]
     },
     "metadata": {
      "needs_background": "light"
     },
     "output_type": "display_data"
    }
   ],
   "source": [
    "#print (alltoks[0])\n",
    "vecwords = []  \n",
    "vecs = []    \n",
    "for k in toksents:\n",
    "    for a in k:\n",
    "        if a in most_freq_words:\n",
    "            try:\n",
    "                kvec = model[a]\n",
    "                vecs.append(kvec)\n",
    "                vecwords.append(a)\n",
    "            except:\n",
    "                pass\n",
    "    \n",
    "#print(len(vecs))\n",
    "vecs = vecs[:100]\n",
    "pca = PCA(n_components=2, whiten=True)\n",
    "vectors2d = pca.fit(vecs).transform(vecs)\n",
    "#print(type(vectors2d))\n",
    "#print(vecwords[15])\n",
    "#print(\"here2\")\n",
    "#print(vectors2d[15])\n",
    "for point, word in zip(vectors2d, vecwords):\n",
    "    plt.scatter(point[0], point[1], c='b')\n",
    "    plt.annotate(\n",
    "        word, \n",
    "        xy = (point[0], point[1]),\n",
    "        )\n",
    "\n",
    "\n"
   ]
  },
  {
   "cell_type": "code",
   "execution_count": 69,
   "metadata": {},
   "outputs": [
    {
     "name": "stderr",
     "output_type": "stream",
     "text": [
      "/Users/liwenwong/anaconda3/lib/python3.7/site-packages/ipykernel_launcher.py:22: DeprecationWarning: Call to deprecated `__contains__` (Method will be removed in 4.0.0, use self.wv.__contains__() instead).\n",
      "/Users/liwenwong/anaconda3/lib/python3.7/site-packages/ipykernel_launcher.py:23: DeprecationWarning: Call to deprecated `__getitem__` (Method will be removed in 4.0.0, use self.wv.__getitem__() instead).\n"
     ]
    },
    {
     "name": "stdout",
     "output_type": "stream",
     "text": [
      "448\n",
      "100\n",
      "448\n"
     ]
    }
   ],
   "source": [
    "# Compare test data\n",
    "\n",
    "from scipy.spatial.distance import cdist\n",
    "from sklearn import metrics\n",
    "\n",
    "\n",
    "testtargets = []  \n",
    "testvectors = []  \n",
    "\n",
    "textlines = []    \n",
    "textlinetoks = [] \n",
    "    \n",
    "count = 0\n",
    "for l in all_test_data:\n",
    "    if count >= 1:\n",
    "        ind = int(l[indexNum])\n",
    "        curtext = l[0]\n",
    "        testtargets.append(ind)\n",
    "        addme = [t.lower() for t in curtext.split()]\n",
    "        totvec = np.zeros(dimension)\n",
    "        for h in addme:\n",
    "            if h.lower() in model:\n",
    "                totvec = totvec + model[h.lower()]\n",
    "        testvectors.append(totvec)\n",
    "\n",
    "    count += 1\n",
    "\n",
    "print (len(testvectors))\n",
    "print(len(testvectors[100]))\n",
    "print(len(testtargets))\n",
    "\n",
    "pos_d = sp.spatial.distance.cdist(testvectors, posvectors)\n",
    "neg_d = sp.spatial.distance.cdist(testvectors, negvectors)\n",
    "zero_d = sp.spatial.distance.cdist(testvectors, zerovectors)\n",
    "posmins = pos_d.min(axis = 1)\n",
    "negmins = neg_d.min(axis = 1)\n",
    "zeromins= zero_d.min(axis =1)\n",
    "\n",
    "predictedknn = []  \n",
    "for item1, item2, item3 in zip(negmins, zeromins,posmins):\n",
    "    if item1 < item2 and item1 < item3:\n",
    "        predictedknn.append(-1)\n",
    "    elif item2 < item1 and item2 < item3:\n",
    "        predictedknn.append(0)\n",
    "    else:\n",
    "        predictedknn.append(1)\n",
    "        \n"
   ]
  },
  {
   "cell_type": "code",
   "execution_count": 70,
   "metadata": {},
   "outputs": [
    {
     "name": "stdout",
     "output_type": "stream",
     "text": [
      "100\n",
      "2362\n",
      "[1. 1. 1. ... 0. 0. 0.]\n"
     ]
    }
   ],
   "source": [
    "alltargets = list(np.ones(len(posvectors)))\n",
    "alltargets.extend(np.full_like(np.arange(len(negvectors)), -1))\n",
    "alltargets.extend(np.zeros(len(zerovectors)))\n",
    "alltargets = np.array(alltargets)\n",
    "allvectors = posvectors +negvectors+ zerovectors \n",
    "print(len(allvectors[10]))\n",
    "print(len(allvectors))\n",
    "print(alltargets[:-5])"
   ]
  },
  {
   "cell_type": "code",
   "execution_count": 71,
   "metadata": {},
   "outputs": [
    {
     "name": "stdout",
     "output_type": "stream",
     "text": [
      "Naive Bayes\n",
      "              precision    recall  f1-score   support\n",
      "\n",
      "          -1       0.53      0.34      0.42       233\n",
      "           0       0.03      0.31      0.06        16\n",
      "           1       0.48      0.37      0.42       199\n",
      "\n",
      "    accuracy                           0.35       448\n",
      "   macro avg       0.35      0.34      0.30       448\n",
      "weighted avg       0.49      0.35      0.41       448\n",
      "\n",
      "SVM\n",
      "              precision    recall  f1-score   support\n",
      "\n",
      "          -1       0.52      0.66      0.58       233\n",
      "           0       0.00      0.00      0.00        16\n",
      "           1       0.46      0.36      0.40       199\n",
      "\n",
      "    accuracy                           0.50       448\n",
      "   macro avg       0.33      0.34      0.33       448\n",
      "weighted avg       0.47      0.50      0.48       448\n",
      "\n",
      "K Nearest Neighbors\n",
      "              precision    recall  f1-score   support\n",
      "\n",
      "          -1       0.48      0.38      0.42       233\n",
      "           0       0.00      0.00      0.00        16\n",
      "           1       0.43      0.54      0.48       199\n",
      "\n",
      "    accuracy                           0.44       448\n",
      "   macro avg       0.30      0.31      0.30       448\n",
      "weighted avg       0.44      0.44      0.43       448\n",
      "\n"
     ]
    },
    {
     "name": "stderr",
     "output_type": "stream",
     "text": [
      "/Users/liwenwong/anaconda3/lib/python3.7/site-packages/sklearn/svm/base.py:929: ConvergenceWarning: Liblinear failed to converge, increase the number of iterations.\n",
      "  \"the number of iterations.\", ConvergenceWarning)\n",
      "/Users/liwenwong/anaconda3/lib/python3.7/site-packages/sklearn/metrics/classification.py:1437: UndefinedMetricWarning: Precision and F-score are ill-defined and being set to 0.0 in labels with no predicted samples.\n",
      "  'precision', 'predicted', average, warn_for)\n"
     ]
    }
   ],
   "source": [
    "from sklearn.naive_bayes import GaussianNB\n",
    "from sklearn.svm import LinearSVC\n",
    "from sklearn.linear_model import LogisticRegression\n",
    "\n",
    "\n",
    "# Naive Bayes text classification\n",
    "\n",
    "model = GaussianNB()\n",
    "model.fit(allvectors, alltargets)\n",
    "train = testtargets\n",
    "test = model.predict(testvectors)\n",
    "print(\"Naive Bayes\")\n",
    "print(metrics.classification_report(train, test))\n",
    "\n",
    "\n",
    "# Support Vector Machine (SVM)\n",
    "svm = LinearSVC()\n",
    "svm.fit(allvectors, alltargets)\n",
    "svm_train = testtargets\n",
    "\n",
    "svm_test = svm.predict(testvectors)\n",
    "print(\"SVM\")\n",
    "print(metrics.classification_report(svm_train, svm_test))\n",
    "\n",
    "# K Nearest Neighbors (KNN)\n",
    "print(\"K Nearest Neighbors\")\n",
    "print(metrics.classification_report(testtargets, predictedknn))"
   ]
  }
 ],
 "metadata": {
  "kernelspec": {
   "display_name": "Python 3",
   "language": "python",
   "name": "python3"
  },
  "language_info": {
   "codemirror_mode": {
    "name": "ipython",
    "version": 3
   },
   "file_extension": ".py",
   "mimetype": "text/x-python",
   "name": "python",
   "nbconvert_exporter": "python",
   "pygments_lexer": "ipython3",
   "version": "3.7.3"
  }
 },
 "nbformat": 4,
 "nbformat_minor": 2
}
